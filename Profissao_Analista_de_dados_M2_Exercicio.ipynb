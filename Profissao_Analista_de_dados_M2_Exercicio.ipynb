{
  "nbformat": 4,
  "nbformat_minor": 0,
  "metadata": {
    "colab": {
      "provenance": [],
      "toc_visible": true
    },
    "kernelspec": {
      "name": "python3",
      "display_name": "Python 3"
    }
  },
  "cells": [
    {
      "cell_type": "markdown",
      "metadata": {
        "id": "KJqp9AANOCtf"
      },
      "source": [
        "<img src=\"https://raw.githubusercontent.com/andre-marcos-perez/ebac-course-utils/main/media/logo/newebac_logo_black_half.png\" alt=\"ebac-logo\">\n",
        "\n",
        "---\n",
        "\n",
        "# **Módulo** | Python: Estruturas de Dados\n",
        "Caderno de **Exercícios**<br>\n",
        "Professor [André Perez](https://www.linkedin.com/in/andremarcosperez/)\n",
        "\n",
        "---"
      ]
    },
    {
      "cell_type": "markdown",
      "metadata": {
        "id": "d9jDtUbDOE1-"
      },
      "source": [
        "# **Tópicos**\n",
        "\n",
        "<ol type=\"1\">\n",
        "  <li>Listas;</li>\n",
        "  <li>Conjuntos;</li>\n",
        "  <li>Dicionários.</li>\n",
        "</ol>"
      ]
    },
    {
      "cell_type": "markdown",
      "metadata": {
        "id": "SmoHgt-lwkpD"
      },
      "source": [
        "---"
      ]
    },
    {
      "cell_type": "markdown",
      "metadata": {
        "id": "GABI6OW8OfQ2"
      },
      "source": [
        "# **Exercícios**"
      ]
    },
    {
      "cell_type": "markdown",
      "metadata": {
        "id": "muD1vxozykSC"
      },
      "source": [
        "## 1\\. Listas"
      ]
    },
    {
      "cell_type": "markdown",
      "metadata": {
        "id": "ahrFfCuBxJKs"
      },
      "source": [
        "Criei uma lista chamada `filmes` com o nome dos 10 primeiros filmes mais bem avaliados no site no [IMDB](https://www.imdb.com/chart/top/). Imprima o resultado."
      ]
    },
    {
      "cell_type": "code",
      "metadata": {
        "id": "OgL6Hv3bzOHI",
        "colab": {
          "base_uri": "https://localhost:8080/"
        },
        "outputId": "5762cbe4-2a12-47e1-d7b6-48fa62f12fd9"
      },
      "source": [
        "print(\"*\" * 50)\n",
        "print(\"Top 10 Filmes IMDB\")\n",
        "print(\"\\n\")\n",
        "primeiro = (\"Um Sonho de Liberdade\")\n",
        "segundo = (\"O Poderoso Chefão\")\n",
        "terceiro = (\"Batman: O Cavaleiro das Trevas\")\n",
        "quarto = (\"O Poderoso Chefão II\")\n",
        "quinto = (\"12 Homens e uma Sentença\")\n",
        "sexto = (\"A Lista de Schindler\")\n",
        "setimo = (\"O Senhor dos Anéis: O Retorno do Rei\")\n",
        "oitavo = (\"Pulp Fiction - Tempo de Violência\")\n",
        "nono = (\"O Senhor dos Anéis: A Sociedade do Anel\")\n",
        "decimo = (\"Três Homens em Conflito\")\n",
        "\n",
        "\n",
        "\n",
        "filmes = [\"01° - \" + primeiro, \"02° - \" + segundo, \"03° - \" + terceiro, \"04° - \" + quarto, \"05° - \" + quinto, \"06° - \" + sexto, \"07° - \" + setimo, \"08° - \" + oitavo, \"09° - \" + nono, \"10° - \" + decimo]\n",
        "for filme in filmes:\n",
        "  print(filme)\n",
        "\n",
        "print(\"*\" * 50)"
      ],
      "execution_count": 22,
      "outputs": [
        {
          "output_type": "stream",
          "name": "stdout",
          "text": [
            "**************************************************\n",
            "Top 10 Filmes IMDB\n",
            "\n",
            "\n",
            "01° - Um Sonho de Liberdade\n",
            "02° - O Poderoso Chefão\n",
            "03° - Batman: O Cavaleiro das Trevas\n",
            "04° - O Poderoso Chefão II\n",
            "05° - 12 Homens e uma Sentença\n",
            "06° - A Lista de Schindler\n",
            "07° - O Senhor dos Anéis: O Retorno do Rei\n",
            "08° - Pulp Fiction - Tempo de Violência\n",
            "09° - O Senhor dos Anéis: A Sociedade do Anel\n",
            "10° - Três Homens em Conflito\n",
            "**************************************************\n"
          ]
        }
      ]
    },
    {
      "cell_type": "markdown",
      "metadata": {
        "id": "KI9zQRT2xa7m"
      },
      "source": [
        "Simule a movimentação do *ranking*. Utilize os métodos `insert` e `pop` para trocar a posição do primeiro e do segundo filme da lista. Imprima o resultado.\n",
        "\n"
      ]
    },
    {
      "cell_type": "code",
      "metadata": {
        "id": "zX3mA3_GzrXH",
        "colab": {
          "base_uri": "https://localhost:8080/"
        },
        "outputId": "f55bd42a-0903-4f56-a337-8fca90cb3f6c"
      },
      "source": [
        "print(\"*\" * 50)\n",
        "print(\"Top 10 Filmes IMDB modificada\")\n",
        "print(\"\\n\")\n",
        "sai_1 = filmes.pop(0)\n",
        "sai_2 = filmes.pop(0)\n",
        "filmes.insert(0, f'02° - {primeiro}')\n",
        "filmes.insert(0, f'01° - {segundo}')\n",
        "for filme in filmes:\n",
        "  print(filme)\n",
        "print(\"*\" * 50)"
      ],
      "execution_count": 23,
      "outputs": [
        {
          "output_type": "stream",
          "name": "stdout",
          "text": [
            "**************************************************\n",
            "Top 10 Filmes IMDB modificada\n",
            "\n",
            "\n",
            "01° - O Poderoso Chefão\n",
            "02° - Um Sonho de Liberdade\n",
            "03° - Batman: O Cavaleiro das Trevas\n",
            "04° - O Poderoso Chefão II\n",
            "05° - 12 Homens e uma Sentença\n",
            "06° - A Lista de Schindler\n",
            "07° - O Senhor dos Anéis: O Retorno do Rei\n",
            "08° - Pulp Fiction - Tempo de Violência\n",
            "09° - O Senhor dos Anéis: A Sociedade do Anel\n",
            "10° - Três Homens em Conflito\n",
            "**************************************************\n"
          ]
        }
      ]
    },
    {
      "cell_type": "markdown",
      "metadata": {
        "id": "zMN1Q3jdwoJm"
      },
      "source": [
        "---"
      ]
    },
    {
      "cell_type": "markdown",
      "metadata": {
        "id": "lxa5L6uF0ZJE"
      },
      "source": [
        "## 2\\. Conjuntos"
      ]
    },
    {
      "cell_type": "markdown",
      "metadata": {
        "id": "9JahS2Kj0d5u"
      },
      "source": [
        "Aconteceu um erro no seu *ranking*. Simule a duplicação dos três últimos filmes da lista. Imprima o resultado."
      ]
    },
    {
      "cell_type": "code",
      "metadata": {
        "id": "BnjnLBNC6PGe",
        "colab": {
          "base_uri": "https://localhost:8080/"
        },
        "outputId": "cf43664c-be19-430f-e7fd-7370f6eb00bb"
      },
      "source": [
        "print(\"*\" * 50)\n",
        "print(\"Top 10 Filmes IMDB bugada\")\n",
        "print(\"\\n\")\n",
        "filmes.insert(10, f'10° - {decimo}')\n",
        "filmes.insert(10, f'09° - {nono}')\n",
        "filmes.insert(10, f'08° - {oitavo}')\n",
        "for filme in filmes:\n",
        "  print(filme)\n",
        "print(\"*\" * 50)\n"
      ],
      "execution_count": 24,
      "outputs": [
        {
          "output_type": "stream",
          "name": "stdout",
          "text": [
            "**************************************************\n",
            "Top 10 Filmes IMDB bugada\n",
            "\n",
            "\n",
            "01° - O Poderoso Chefão\n",
            "02° - Um Sonho de Liberdade\n",
            "03° - Batman: O Cavaleiro das Trevas\n",
            "04° - O Poderoso Chefão II\n",
            "05° - 12 Homens e uma Sentença\n",
            "06° - A Lista de Schindler\n",
            "07° - O Senhor dos Anéis: O Retorno do Rei\n",
            "08° - Pulp Fiction - Tempo de Violência\n",
            "09° - O Senhor dos Anéis: A Sociedade do Anel\n",
            "10° - Três Homens em Conflito\n",
            "08° - Pulp Fiction - Tempo de Violência\n",
            "09° - O Senhor dos Anéis: A Sociedade do Anel\n",
            "10° - Três Homens em Conflito\n",
            "**************************************************\n"
          ]
        }
      ]
    },
    {
      "cell_type": "markdown",
      "metadata": {
        "id": "suxTfCJB6ZiX"
      },
      "source": [
        "Utiliza a conversão `set` e `list` para remover os valores duplicados. Imprima o resultado."
      ]
    },
    {
      "cell_type": "code",
      "metadata": {
        "id": "ZvUGN-0n6joM",
        "colab": {
          "base_uri": "https://localhost:8080/"
        },
        "outputId": "89548a18-bebf-4073-fca6-f612900ac104"
      },
      "source": [
        "print(\"*\" * 370)\n",
        "print(\"Lista do conjunto Top 10 Filmes IMDB\")\n",
        "print(\"\\n\")\n",
        "print(list(set(filmes)))\n",
        "print(type(filmes))\n",
        "print(\"*\" * 370)"
      ],
      "execution_count": 37,
      "outputs": [
        {
          "output_type": "stream",
          "name": "stdout",
          "text": [
            "**********************************************************************************************************************************************************************************************************************************************************************************************************************************************************************************\n",
            "Lista do conjunto Top 10 Filmes IMDB\n",
            "\n",
            "\n",
            "['05° - 12 Homens e uma Sentença', '09° - O Senhor dos Anéis: A Sociedade do Anel', '07° - O Senhor dos Anéis: O Retorno do Rei', '03° - Batman: O Cavaleiro das Trevas', '02° - Um Sonho de Liberdade', '04° - O Poderoso Chefão II', '06° - A Lista de Schindler', '08° - Pulp Fiction - Tempo de Violência', '01° - O Poderoso Chefão', '10° - Três Homens em Conflito']\n",
            "<class 'list'>\n",
            "**********************************************************************************************************************************************************************************************************************************************************************************************************************************************************************************\n"
          ]
        }
      ]
    },
    {
      "cell_type": "markdown",
      "metadata": {
        "id": "ShkK35eQ6pAM"
      },
      "source": [
        "---"
      ]
    },
    {
      "cell_type": "markdown",
      "metadata": {
        "id": "EL_FzmxL6rTv"
      },
      "source": [
        "## 3\\. Dicionários"
      ]
    },
    {
      "cell_type": "markdown",
      "metadata": {
        "id": "i8l0gFqRCpfT"
      },
      "source": [
        "Repita os exercícios da parte 1 (listas). Os elementos da lista `filmes` devem ser dicionários no seguinte formato: `{'nome': <nome-do-filme>, 'ano': <ano do filme>, 'sinopse': <sinopse do filme>}`."
      ]
    },
    {
      "cell_type": "code",
      "metadata": {
        "id": "tu6MSFwGDnHv",
        "colab": {
          "base_uri": "https://localhost:8080/"
        },
        "outputId": "dec2dc96-b1f0-4e99-ed3b-2cab6eeb20d0"
      },
      "source": [
        "print(\"*\" * 300)\n",
        "print(\"Top 10 Filmes IMDB\")\n",
        "print(\"\\n\")\n",
        "\n",
        "filmes_dic = {\n",
        "    'nome' : 'Um Sonho de Liberdade',\n",
        "    'ano' : '1994',\n",
        "    'sinopse' : 'Dois homens presos se reúnem ao longo de vários anos, encontrando consolo e eventual redenção através de atos de decência comum.'\n",
        "              }\n",
        "print(\" 1° - \", filmes_dic)\n",
        "filmes_dic = {\n",
        "    'nome' : 'O Poderoso Chefão',\n",
        "    'ano' : '1972',\n",
        "    'sinopse' : 'O patriarca idoso de uma dinastia do crime organizado transfere o controle de seu império clandestino para seu filho relutante.'\n",
        "                }\n",
        "print(\" 2° - \",filmes_dic)\n",
        "filmes_dic = {\n",
        "    'nome' : 'Batman: O Cavaleiro das Trevas',\n",
        "    'ano' : '2008',\n",
        "    'sinopse' : 'Quando a ameaça conhecida como O Coringa surge de seu passado, causa estragos e caos nas pessoas de Gotham. O Cavaleiro das Trevas deve aceitar um dos maiores testes para combater a injustiça.'\n",
        "              }\n",
        "print(\" 3° - \",filmes_dic)\n",
        "filmes_dic = {\n",
        "    'nome' : 'O Poderoso Chefão II',\n",
        "    'ano' : '1974',\n",
        "    'sinopse' : 'Em 1950, Michael Corleone, agora à frente da família, tenta expandir o negócio do crime a Las Vegas, Los Angeles e Cuba. Paralelamente, é revelada a história de Vito Corleone, e de como saiu da Sicília e chegou a Nova Iorque.'\n",
        "                }\n",
        "print(\" 4° - \",filmes_dic)\n",
        "filmes_dic = {\n",
        "    'nome' : '12 Homens e uma Sentença',\n",
        "    'ano' : '1957',\n",
        "    'sinopse' : 'O julgamento de um assassinato em Nova Iorque é frustrado por um único membro, cujo ceticismo força o júri a considerar cuidadosamente as evidências antes de dar o veredito.'\n",
        "              }\n",
        "print(\" 5° - \",filmes_dic)\n",
        "filmes_dic = {\n",
        "    'nome' : 'A Lista de Schindler',\n",
        "    'ano' : '1993',\n",
        "    'sinopse' : 'Na Polônia ocupada pelos alemães durante a Segunda Guerra Mundial, o industrial Oskar Schindler começa a ser preocupar com seus trabalhadores judeus depois de testemunhar sua perseguição pelos nazistas.'\n",
        "                }\n",
        "print(\" 6° - \",filmes_dic)\n",
        "filmes_dic = {\n",
        "    'nome' : 'O Senhor dos Anéis: O Retorno do Rei',\n",
        "    'ano' : '2003',\n",
        "    'sinopse' : 'Gandalf e Aragorn lideram o Mundo dos Homens contra o exército de Sauron para desviar o olhar de Frodo e Sam quando eles se aproximam á Montanha da Perdição com o Um Anel.'\n",
        "              }\n",
        "print(\" 7° - \",filmes_dic)\n",
        "filmes_dic = {\n",
        "    'nome' : 'Pulp Fiction - Tempo de Violência',\n",
        "    'ano' : '1994',\n",
        "    'sinopse' : 'As vidas de dois assassinos da máfia, um boxeador, um gângster e sua esposa, e um par de bandidos se entrelaçam em quatro histórias de violência e redenção.'\n",
        "                }\n",
        "print(\" 8° - \",filmes_dic)\n",
        "filmes_dic = {\n",
        "    'nome' : 'O Senhor dos Anéis: A Sociedade do Anel',\n",
        "    'ano' : '2001',\n",
        "    'sinopse' : 'Um manso hobbit do Condado e oito companheiros partem em uma jornada para destruir o poderoso Um Anel e salvar a Terra-média das Trevas.'\n",
        "              }\n",
        "print(\" 9° - \",filmes_dic)\n",
        "filmes_dic = {\n",
        "    'nome' : 'Três Homens em Conflito',\n",
        "    'ano' : '1966',\n",
        "    'sinopse' : 'Um impostor se junta com dois homens para encontrar fortuna num remoto cemitério.'\n",
        "                }\n",
        "print(\"10° - \",filmes_dic)\n",
        "print(\"\\n\")\n",
        "print(\"*\" * 300)"
      ],
      "execution_count": 15,
      "outputs": [
        {
          "output_type": "stream",
          "name": "stdout",
          "text": [
            "************************************************************************************************************************************************************************************************************************************************************************************************************\n",
            "Top 10 Filmes IMDB\n",
            "\n",
            "\n",
            " 1° -  {'nome': 'Um Sonho de Liberdade', 'ano': '1994', 'sinopse': 'Dois homens presos se reúnem ao longo de vários anos, encontrando consolo e eventual redenção através de atos de decência comum.'}\n",
            " 2° -  {'nome': 'O Poderoso Chefão', 'ano': '1972', 'sinopse': 'O patriarca idoso de uma dinastia do crime organizado transfere o controle de seu império clandestino para seu filho relutante.'}\n",
            " 3° -  {'nome': 'Batman: O Cavaleiro das Trevas', 'ano': '2008', 'sinopse': 'Quando a ameaça conhecida como O Coringa surge de seu passado, causa estragos e caos nas pessoas de Gotham. O Cavaleiro das Trevas deve aceitar um dos maiores testes para combater a injustiça.'}\n",
            " 4° -  {'nome': 'O Poderoso Chefão II', 'ano': '1974', 'sinopse': 'Em 1950, Michael Corleone, agora à frente da família, tenta expandir o negócio do crime a Las Vegas, Los Angeles e Cuba. Paralelamente, é revelada a história de Vito Corleone, e de como saiu da Sicília e chegou a Nova Iorque.'}\n",
            " 5° -  {'nome': '12 Homens e uma Sentença', 'ano': '1957', 'sinopse': 'O julgamento de um assassinato em Nova Iorque é frustrado por um único membro, cujo ceticismo força o júri a considerar cuidadosamente as evidências antes de dar o veredito.'}\n",
            " 6° -  {'nome': 'A Lista de Schindler', 'ano': '1993', 'sinopse': 'Na Polônia ocupada pelos alemães durante a Segunda Guerra Mundial, o industrial Oskar Schindler começa a ser preocupar com seus trabalhadores judeus depois de testemunhar sua perseguição pelos nazistas.'}\n",
            " 7° -  {'nome': 'O Senhor dos Anéis: O Retorno do Rei', 'ano': '2003', 'sinopse': 'Gandalf e Aragorn lideram o Mundo dos Homens contra o exército de Sauron para desviar o olhar de Frodo e Sam quando eles se aproximam á Montanha da Perdição com o Um Anel.'}\n",
            " 8° -  {'nome': 'Pulp Fiction - Tempo de Violência', 'ano': '1994', 'sinopse': 'As vidas de dois assassinos da máfia, um boxeador, um gângster e sua esposa, e um par de bandidos se entrelaçam em quatro histórias de violência e redenção.'}\n",
            " 9° -  {'nome': 'O Senhor dos Anéis: A Sociedade do Anel', 'ano': '2001', 'sinopse': 'Um manso hobbit do Condado e oito companheiros partem em uma jornada para destruir o poderoso Um Anel e salvar a Terra-média das Trevas.'}\n",
            "10° -  {'nome': 'Três Homens em Conflito', 'ano': '1966', 'sinopse': 'Um impostor se junta com dois homens para encontrar fortuna num remoto cemitério.'}\n",
            "\n",
            "\n",
            "************************************************************************************************************************************************************************************************************************************************************************************************************\n"
          ]
        }
      ]
    }
  ]
}